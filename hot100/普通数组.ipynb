{
 "cells": [
  {
   "cell_type": "markdown",
   "id": "47af0107",
   "metadata": {},
   "source": [
    "# [Leetcode53-最大子数组和](https://leetcode.cn/problems/maximum-subarray/?envType=study-plan-v2&envId=top-100-liked)\n",
    "\n",
    "给你一个整数数组 nums ，请你找出一个具有最大和的连续子数组（子数组最少包含一个元素），返回其最大和。\n",
    "\n",
    "子数组是数组中的一个连续部分。 \n",
    "\n",
    "示例 1：\n",
    "- 输入：nums = [-2,1,-3,4,-1,2,1,-5,4]\n",
    "- 输出：6\n",
    "- 解释：连续子数组 [4,-1,2,1] 的和最大，为 6 。\n",
    "\n",
    "示例 2：\n",
    "- 输入：nums = [1]\n",
    "- 输出：1\n",
    "\n",
    "示例 3：\n",
    "- 输入：nums = [5,4,-1,7,8]\n",
    "- 输出：23\n",
    " \n",
    "提示：\n",
    "- 1 <= nums.length <= $10^5$\n",
    "- $-10^4$ <= nums[i] <= $10^4$\n",
    " \n",
    "进阶：如果你已经实现复杂度为 O(n) 的解法，尝试使用更为精妙的 分治法 求解。\n",
    "\n",
    "\n",
    "```cpp\n",
    "// 使用Cpp的解法\n",
    "// 动态规划经典例题\n",
    "class Solution{\n",
    "public:\n",
    "    int maxSubArray(vector<int>& nums) {\n",
    "        int n = nums.size();\n",
    "        // 如果没有任何元素的话，直接返回0\n",
    "        if (n == 0) {\n",
    "            return 0;\n",
    "        }\n",
    "        // 如果只有一个元素的话，直接返回本身\n",
    "        if (n == 1) {\n",
    "            return nums[0];\n",
    "        }\n",
    "\n",
    "        // 使用动态规划的思路进行求解，这里需要明确dp[i]表示的含义是以nums[i]为结尾的子数组的最大和\n",
    "        // 注意这里的动态转移方程，需要理解的是对nums[i]是否进行选择\n",
    "        // 如果选择的话，那么就是dp[i - 1] + nums[i]\n",
    "        // 如果不进行选择的话，那么就是直接从nums[i]开始进行计算的，就是只有一个nums[i]\n",
    "        vector<int> dp(n);\n",
    "        // 注意这里进行dp数组的第一个的初始化！！！\n",
    "        dp[0] = nums[0];\n",
    "        for (int i = 1; i < n; i++) {\n",
    "            dp[i] = std::max(dp[i - 1] + nums[i], nums[i]);\n",
    "        }\n",
    "        std::sort(dp.begin(), dp.end());\n",
    "        return dp[n - 1];\n",
    "    }\n",
    "};\n",
    "```"
   ]
  },
  {
   "cell_type": "markdown",
   "id": "a1725837",
   "metadata": {},
   "source": []
  }
 ],
 "metadata": {
  "kernelspec": {
   "display_name": "base",
   "language": "python",
   "name": "python3"
  },
  "language_info": {
   "name": "python",
   "version": "3.12.9"
  }
 },
 "nbformat": 4,
 "nbformat_minor": 5
}
